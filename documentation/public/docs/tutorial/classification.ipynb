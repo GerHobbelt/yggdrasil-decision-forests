{
  "cells": [
    {
      "cell_type": "markdown",
      "metadata": {
        "id": "yXFFainTs4bW"
      },
      "source": [
        "# Classification\n",
        "[![Open in Colab](https://colab.research.google.com/assets/colab-badge.svg)](https://colab.research.google.com/github/google/yggdrasil-decision-forests/blob/main/documentation/public/docs/tutorial/classification.ipynb)\n"
      ]
    },
    {
      "cell_type": "markdown",
      "metadata": {
        "id": "7y8g6go3s4bY"
      },
      "source": [
        "## Setup"
      ]
    },
    {
      "cell_type": "code",
      "execution_count": null,
      "metadata": {
        "id": "NX0EsaTBs4bZ"
      },
      "outputs": [],
      "source": [
        "pip install ydf -U"
      ]
    },
    {
      "cell_type": "markdown",
      "metadata": {
        "id": "FLHNW0wos4ba"
      },
      "source": [
        "## What is classification?\n",
        "\n",
        "\n",
        "**Classification** is the task of predicting a categorical value, such as an enum, type, or class from a finite set of possible values. For instance, predicting a color from the set of possible colors RED, BLUE, GREEN is a classification task. The output of classification models is a probability distribution over the possible classes. The predicted class is the one with the highest probability.\n",
        "\n",
        "When there are only two classes, we call it binary classification. In this case, models only return one probability.\n",
        "\n",
        "Classification labels can be strings, integers, or boolean values.\n"
      ]
    },
    {
      "cell_type": "markdown",
      "metadata": {
        "id": "q1_rIm3fs4ba"
      },
      "source": [
        "## Training a classification model\n",
        "\n",
        "The task of a model (e.g., classification, regression) is determined by the `task` learner argument. The default value of this argument is `ydf.Task.CLASSIFICATION`, which means that by default, YDF trains classification models.\n"
      ]
    },
    {
      "cell_type": "code",
      "execution_count": null,
      "metadata": {
        "id": "_wEUbvBXs4ba"
      },
      "outputs": [],
      "source": [
        "# Load libraries\n",
        "import ydf  # Yggdrasil Decision Forests\n",
        "import pandas as pd  # We use Pandas to load small datasets\n",
        "\n",
        "# Download a classification dataset and load it as a Pandas DataFrame.\n",
        "ds_path = \"https://raw.githubusercontent.com/google/yggdrasil-decision-forests/main/yggdrasil_decision_forests/test_data/dataset\"\n",
        "train_ds = pd.read_csv(f\"{ds_path}/adult_train.csv\")\n",
        "test_ds = pd.read_csv(f\"{ds_path}/adult_test.csv\")\n",
        "\n",
        "# Print the first 5 training examples\n",
        "train_ds.head(5)"
      ]
    },
    {
      "cell_type": "markdown",
      "metadata": {
        "id": "TPN34Tsxs4bb"
      },
      "source": [
        "The label column is:"
      ]
    },
    {
      "cell_type": "code",
      "execution_count": null,
      "metadata": {
        "id": "SN7pJvtms4bb"
      },
      "outputs": [],
      "source": [
        "train_ds[\"income\"]"
      ]
    },
    {
      "cell_type": "markdown",
      "metadata": {
        "id": "mGrf3dhss4bb"
      },
      "source": [
        "We can train a classification model:"
      ]
    },
    {
      "cell_type": "code",
      "execution_count": null,
      "metadata": {
        "id": "NnLU2447s4bb"
      },
      "outputs": [],
      "source": [
        "# Note: ydf.Task.CLASSIFICATION is the default value of \"task\"\n",
        "model = ydf.RandomForestLearner(label=\"income\",\n",
        "                                task=ydf.Task.CLASSIFICATION).train(train_ds)"
      ]
    },
    {
      "cell_type": "markdown",
      "metadata": {
        "id": "8ckxFlULs4bc"
      },
      "source": [
        "Classification models are evaluated using accuracy, confusion matrices, ROC-AUC and PR-AUC. You can plot a rich evaluation with ROC and PR plots."
      ]
    },
    {
      "cell_type": "code",
      "execution_count": null,
      "metadata": {
        "id": "rVpX75Ees4bc"
      },
      "outputs": [],
      "source": [
        "evaluation = model.evaluate(test_ds)\n",
        "\n",
        "evaluation"
      ]
    },
    {
      "cell_type": "markdown",
      "metadata": {
        "id": "S-GfMD5Ns4bc"
      },
      "source": [
        "The evaluation metrics can be accessed directly in the evaluation object."
      ]
    },
    {
      "cell_type": "code",
      "execution_count": null,
      "metadata": {
        "id": "GMHOcv3Os4bc"
      },
      "outputs": [],
      "source": [
        "print(evaluation.accuracy)"
      ]
    },
    {
      "cell_type": "markdown",
      "metadata": {
        "id": "U6ro6YEVtoH8"
      },
      "source": [
        "## Making predictions\n",
        "\n",
        "Classification models predict the probability of the label classes.\n",
        "**Binary classification** models output the probabiltity of the first class\n",
        "according to `model.label_classes()`."
      ]
    },
    {
      "cell_type": "code",
      "execution_count": null,
      "metadata": {
        "id": "CAQCx6xytt15"
      },
      "outputs": [],
      "source": [
        "# Print the label classes.\n",
        "print(model.label_classes())\n",
        "# Predict the probability of the first class.\n",
        "print(model.predict(test_ds))"
      ]
    },
    {
      "cell_type": "markdown",
      "metadata": {
        "id": "7TNxww6CucOk"
      },
      "source": [
        "We can also directly predict the most likely class.\n",
        "\n",
        "**Warning**: Always use `model.predict_class()` or manually check the order of\n",
        "classes using `model.label_classes()`. Note that the order of label classes may change depending on the training dataset or if YDF is updated."
      ]
    },
    {
      "cell_type": "code",
      "execution_count": null,
      "metadata": {
        "id": "tFDgrsyAuUDf"
      },
      "outputs": [],
      "source": [
        "model.predict_class(test_ds)"
      ]
    }
  ],
  "metadata": {
    "colab": {
      "last_runtime": {
        "build_target": "",
        "kind": "local"
      },
      "private_outputs": true,
      "provenance": []
    },
    "kernelspec": {
      "display_name": "Python 3",
      "language": "python",
      "name": "python3"
    },
    "language_info": {
      "codemirror_mode": {
        "name": "ipython",
        "version": 3
      },
      "file_extension": ".py",
      "mimetype": "text/x-python",
      "name": "python",
      "nbconvert_exporter": "python",
      "pygments_lexer": "ipython3",
      "version": "3.11.5"
    }
  },
  "nbformat": 4,
  "nbformat_minor": 0
}
