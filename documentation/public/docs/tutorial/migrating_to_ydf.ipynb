{
  "cells": [
    {
      "cell_type": "markdown",
      "metadata": {
        "id": "h1ggM1ogLXPb"
      },
      "source": [
        "# Migrating to YDF\n",
        "\n",
        "\n",
        "YDF and [TensorFlow Decision Forests](https://tensorflow.org/decision_forests) (TF-DF) are both front-ends to the same high-performance C++ implementation of Decision Forests algorithms. Both libraries are developed by the same team and use the same training code, which means that models trained by either library will be identical.\n",
        "\n",
        "\n",
        "\n",
        "---\n",
        "\n",
        "\n",
        "**YDF is the successor of TF-DF and it is both significantly more feature-rich, efficient, and easier to use than TF-DF.**\n",
        "\n",
        "\n",
        "---\n",
        "\n",
        "\n",
        "\n",
        "### Benefits at a glance\n",
        "\n",
        "| | YDF | TensorFlow Decision Forests |\n",
        "|---|---|---|\n",
        "| Model description | `model.describe()` produces rich model description html or text report. | `model.summary()` produces a less complete text report,\u003cbr\u003e  but does not work if applied on a model loaded from disk. |\n",
        "| Model evaluation | `model.evaluate(ds)` evaluates a model and returs a rich model\u003cbr\u003e evaluation report. Metrics can also be accessed programmatically. | Each evaluation metric needs to be configured and run manually with\u003cbr\u003e `model.compile()` and `model.evalute()`. No evaluation report.\u003cbr\u003e No confidence intervals. No metrics for ranking and uplifting models. |\n",
        "| Model analysis | `model.analyze(ds)` produces a rich model analysis html report. | Not available |\n",
        "| Model benchmarking | `model.benchmark(ds)` measures and reports the model inference speed. | Not available |\n",
        "| Custom losses | Available for training Gradient Boosted Trees. | Not available |\n",
        "| Cross-validation | `learner.cross_validation(ds)` performs a cross-validation and return\u003cbr\u003e a rich model evaluation report. | Not available |\n",
        "| Python model serving | `model.predict(ds)` makes predictions. | `model.predict(ds)` works sometimes. However, because of limitation\u003cbr\u003e in the TensorFlow SavedModel format, calling `model.predict(ds)` on\u003cbr\u003e a model loaded from disk might require signature engineering. |\n",
        "| Other model serving | Model directly available in C++, Python, CLI, go and Javascript. You can also\u003cbr\u003e use utilities to generate serving code: For example, call `model.to_cpp()`\u003cbr\u003e to generate C++ serving code. Models can be exported to a TensorFlow\u003cbr\u003e SavedModel with `model.to_tensorflow_saved_model(path)`. | Call `model.save(path, signature)` to generate a TensorFlow \u003cbr\u003eSaveModel, and use the TensorFlow C++ API to run the model in C++. \u003cbr\u003e Alternatively, export the model to YDF. |\n",
        "| Training speed | On a small dataset, training up to 5x faster than TensorFlow Decision Forests.\u003cbr\u003e On all dataset sizes, model inference is up to 1000x faster than TensorFlow\u003cbr\u003e Decision Forests. | On a small dataset, most of the time is spent in TensorFlow dataset reading. |\n",
        "| Library size | The YDF library is smaller than 10MB. | The TF-DF library is small, but it requires TensorFlow which is ~600MB. |\n",
        "| Error messages | Short, high level and actionable error messages. | Long and hard to understand error messages often about Tensor shapes. |\n",
        "\n",
        "\n",
        "### Do I have to migrate?\n",
        "\n",
        "**TensorFlow Decision Forests will continue to be supported and users are not required to migrate their pipelines!** If TF-DF and the Keras work well for you, feel free to stay with TF-DF. Our team will continue to release new versions and support users through our various support channels.\n",
        "\n",
        "For more information, check out the [FAQ](https://ydf.readthedocs.io/en/latest/faq).\n",
        "\n",
        "### Outline\n",
        "\n",
        "This guide has three parts:\n",
        "\n",
        "1.  Migrating your TF-DF training, inference and evaluation pipeline.\n",
        "2.  Importing and exporting your existing TF-DF models.\n",
        "3.  Advanced topics: Inspection, Building, Tuning and Distributed Training\n",
        "\n",
        "This guide does not cover every configuration detail of YDF. See https://ydf.readthedocs.org for a full documentation."
      ]
    },
    {
      "cell_type": "markdown",
      "metadata": {
        "id": "4y0BMQ8BOtYb"
      },
      "source": [
        "## Setup\n",
        "\n",
        "To use ydf, just install the corresponding Python package from [Pypi](https://pypi.org/project/ydf/)."
      ]
    },
    {
      "cell_type": "code",
      "execution_count": null,
      "metadata": {
        "id": "GVw9NG_SJvc3"
      },
      "outputs": [],
      "source": [
        "!pip install ydf"
      ]
    },
    {
      "cell_type": "code",
      "execution_count": null,
      "metadata": {
        "id": "6KEp0INfPOba"
      },
      "outputs": [],
      "source": [
        "import ydf\n",
        "import pandas as pd\n",
        "import numpy as np\n",
        "\n",
        "# Check the version of the packages\n",
        "print(\"Found YDF v\" + ydf.__version__)\n"
      ]
    },
    {
      "cell_type": "markdown",
      "metadata": {
        "id": "3VVJL3VvPVr9"
      },
      "source": [
        "## Migrating a training pipeline\n",
        "\n",
        "This section goes through a simple training / evaluation pipeline in YDF."
      ]
    },
    {
      "cell_type": "markdown",
      "metadata": {
        "id": "yT6Y-2W0q-xB"
      },
      "source": [
        "### Model training\n",
        "\n",
        "YDF and TF-DF have the same hyperparameters and the same default values, so most training pipelines can be migrated easily."
      ]
    },
    {
      "cell_type": "markdown",
      "metadata": {
        "id": "JtjU9dd1TbSM"
      },
      "source": [
        "#### Summary of changes\n",
        "\n",
        "The comparison below shows the differences between the two training pipelines side-by-side.\n",
        "\n",
        "\u003ctable\u003e\n",
        "\u003ctr\u003e\n",
        "\u003cth\u003eTF-DF\u003c/th\u003e\n",
        "\u003cth\u003eYDF\u003c/th\u003e\n",
        "\u003c/tr\u003e\n",
        "\u003ctr\u003e\n",
        "\u003ctd\u003e\n",
        "\n",
        "```python\n",
        "# Install TF-DF\n",
        "!pip install tensorflow tensorflow_decision_forests\n",
        "\n",
        "import tensorflow_decision_forests as tfdf\n",
        "import tensorflow as tf\n",
        "import pandas as pd\n",
        "\n",
        "# Load a dataset with Pandas\n",
        "train_df = pd.read_csv(\"train.csv\")\n",
        "test_df = pd.read_csv(\"test.csv\")\n",
        "\n",
        "# Convert the dataset to a TensorFlow Dataset.\n",
        "train_ds = tfdf.keras.pd_dataframe_to_tf_dataset(train_df, label=\"my_label\")\n",
        "test_ds = tfdf.keras.pd_dataframe_to_tf_dataset(test_df, label=\"my_label\")\n",
        "\n",
        "# Train a model\n",
        "model = tfdf.keras.RandomForestModel(num_trees=500)\n",
        "model.fit(train_ds)\n",
        "\n",
        "# Evaluate model.\n",
        "model.compile([tf.keras.metrics.SparseCategoricalAccuracy(),tf.keras.metrics.AUC()])\n",
        "model.evaluate(test_ds)\n",
        "\n",
        "# Saved model\n",
        "model.save(\"project/model\")\n",
        "```\n",
        "\n",
        "\u003c/td\u003e\n",
        "\u003ctd\u003e\n",
        "\n",
        "```python\n",
        "# Install YDF\n",
        "pip install ydf\n",
        "\n",
        "import ydf\n",
        "import pandas as pd\n",
        "\n",
        "# Load a dataset with Pandas\n",
        "train_ds = pd.read_csv(\"train.csv\")\n",
        "test_ds = pd.read_csv(\"test.csv\")\n",
        "\n",
        "# Train a model\n",
        "model = ydf.RandomForestLearner(label=\"my_label\", num_trees=500).train(train_ds)\n",
        "\n",
        "# Evaluate a model (e.g. roc, accuracy, confusion matrix, confidence intervals)\n",
        "model.evaluate(test_ds)\n",
        "\n",
        "# Save the model\n",
        "model.save(\"/tmp/my_model\")\n",
        "```\n",
        "\n",
        "\u003c/td\u003e\n",
        "\u003c/tr\u003e\n",
        "\u003c/table\u003e\n",
        "\n",
        "|                 |YDF                                                                     |TF-DF                                                                                             |\n",
        "|-----------------|------------------------------------------------------------------------|--------------------------------------------------------------------------------------------------|\n",
        "|Dataset support  |Pandas DataFrame, tf.Data.Dataset, Numpy arrays, CSV files                                   |Tensorflow Datasets, \u003cbr\u003e DataFrame via `tfdf.keras.pd_dataframe_to_tf_dataset()`|\n",
        "|Model training   |`ydf.RandomForestLearner(label=label).train(train_ds_pd)`|`model = tfdf.keras.RandomForestModel()`\u003cbr\u003e`model.fit(train_ds)`                                       |\n",
        "|Output verbosity |Global setting `ydf.verbose(2)`                                         |Per-model setting `verbose=2` in the model constructor.                                           |\n",
        "|Model compilation|Not necessary                                                           |`model.compile()` needed for additional metrics.                                                  |\n",
        "|Hyperparameters  |Set on the learner. **Same names and defaults as in TF-DF**.            |Set on the model.                                                                                 |\n",
        "|Label column     |Argument `label=` on the learner                                 |Second \"channel\" of the input datset                                                              |\n",
        "|Example weights  |Argument `weights=` on the learner                               |Third \"channel\" of the input datset                                                               |\n",
        "|Model task       |Argument `task=ydf.Task.REGRESSION` on the learner| Argument `task=tfdf.keras.Task.REGRESSION` on the model|\n",
        "\n",
        "Next, we run the YDF training code in a real example."
      ]
    },
    {
      "cell_type": "code",
      "execution_count": null,
      "metadata": {
        "id": "OZ3wqBIrQA0t"
      },
      "outputs": [],
      "source": [
        "ds_path = \"https://raw.githubusercontent.com/google/yggdrasil-decision-forests/main/yggdrasil_decision_forests/test_data/dataset\"\n",
        "\n",
        "# Download and load the dataset as Pandas DataFrames\n",
        "train_ds = pd.read_csv(f\"{ds_path}/adult_train.csv\")\n",
        "test_ds = pd.read_csv(f\"{ds_path}/adult_test.csv\")\n",
        "\n",
        "# Name of the label column.\n",
        "label = \"income\"\n",
        "\n",
        "# Show extended logs.\n",
        "ydf.verbose(2)\n",
        "\n",
        "# Train a Random Forest model with a simple hyperparameter\n",
        "model = ydf.RandomForestLearner(label=label, num_trees=50).train(train_ds)\n",
        "\n",
        "# Make predictions with the model\n",
        "predictions = model.predict(test_ds)\n",
        "\n",
        "# Show a summary of the model\n",
        "model.describe()"
      ]
    },
    {
      "cell_type": "markdown",
      "metadata": {
        "id": "gwPx3yyKImA2"
      },
      "source": [
        "#### Model training - the sharp bits\n",
        "\n",
        "*   YDF does not automatically tokenize string columns for use with column type CATEGORICAL_SET. Users need to provide their own tokenization if this column type should be used.\n",
        "*   TF-DF often transforms categorical columns to integers, while YDF does not. The models trained by TF-DF and YDF may therefore differ, even if trained with the same hyperparameters on the same datasets.\n",
        "\n"
      ]
    },
    {
      "cell_type": "markdown",
      "metadata": {
        "id": "GGOKEkRqVJwu"
      },
      "source": [
        "## Model evaluation, analysis and storage\n",
        "\n",
        "YDF offers more advanced model evaluation and analysis functionality."
      ]
    },
    {
      "cell_type": "markdown",
      "metadata": {
        "id": "aJ2hwbcUIFMw"
      },
      "source": [
        "### Summary of changes\n",
        "\n",
        "|                       |YDF                                                 |TF-DF                                          |\n",
        "|-----------------------|----------------------------------------------------|-----------------------------------------------|\n",
        "|Evaluation             |`model.evaluate()` shows rich plots and many metrics|`model.evaluate()` shows few metrics, no plots |\n",
        "|Self-Evaluation        |`model.self_evaluation()`                           |`model.make_inspector().evaluation()`          |\n",
        "|Model format           |YDF format. Export to SavedModel is possible                                         |TensorFlow SavedModel                          |\n",
        "|Model loading          | `ydf.load_model()`   |`tf_keras.models.load_model()`|\n",
        "|                       | Loaded models are equivalent   |Loaded models are inference-only|\n",
        "|Variable Importances   |`model.variable_importances()`                      |`model.make_inspector().variable_importances()`|\n",
        "|Model analysis         |`model.analyze(test_ds)`                            |Not available                                  |\n",
        "|Serving with TF Serving|Available with `model.to_tensorflow_saved_model()`  |Available by default                           |\n",
        "| Model inspector | Not required (functionality is on the model) | Required for many tasks|"
      ]
    },
    {
      "cell_type": "markdown",
      "metadata": {
        "id": "3AdlQg1mgCdC"
      },
      "source": [
        "### Model Evaluation and Self-Evaluation\n",
        "\n",
        "A model can be evaluated on a test dataset.\n",
        "\n",
        "As a quick, low-quality alternative, YDF models also provide a self-evaluation.\n",
        "The exact logic of the self-evaluation depends on the model. For example, Random Forest will use Out-of-bag evaluation while Gradient Boosted Trees will use internal train-validation."
      ]
    },
    {
      "cell_type": "code",
      "execution_count": null,
      "metadata": {
        "id": "8FPJuevuTamr"
      },
      "outputs": [],
      "source": [
        "# In Colab, this prints a rich evaluation object.\n",
        "model.evaluate(test_ds)"
      ]
    },
    {
      "cell_type": "code",
      "execution_count": null,
      "metadata": {
        "id": "OitJwlE7gv6S"
      },
      "outputs": [],
      "source": [
        "# Self-evaluation is often good, though it tends to be lower quality than evaluation on test data\n",
        "model.self_evaluation()"
      ]
    },
    {
      "cell_type": "markdown",
      "metadata": {
        "id": "Fb73ONBwWZ25"
      },
      "source": [
        "### Saving and Loading\n",
        "\n",
        "The model can be saved to the YDF format for later re-use. For compatibility with TF Serving and other parts of the TensorFlow ecosystem, see Section *Export to TF Serving* below."
      ]
    },
    {
      "cell_type": "code",
      "execution_count": null,
      "metadata": {
        "id": "nRqb8AbNWiAE"
      },
      "outputs": [],
      "source": [
        "model.save(\"/tmp/my_ydf_model\")"
      ]
    },
    {
      "cell_type": "markdown",
      "metadata": {
        "id": "3ASIlbyQWhjX"
      },
      "source": [
        "If you reload the model, it is functionally equivalent to the original model."
      ]
    },
    {
      "cell_type": "code",
      "execution_count": null,
      "metadata": {
        "id": "lyrDbxs5Xs07"
      },
      "outputs": [],
      "source": [
        "model_reloaded = ydf.load_model(\"/tmp/my_ydf_model\")\n",
        "model_reloaded.describe()"
      ]
    },
    {
      "cell_type": "markdown",
      "metadata": {
        "id": "_Ogchdn4IYDl"
      },
      "source": [
        "### Import from / Export to TensorFlow\n",
        "\n",
        "YDF models can be exported to TensorFlow, e.g. for Serving with TF-Serving. See [the TF Serving tutorial](https://ydf.readthedocs.io/en/latest/tutorial/tf_serving) for a more detailed tutorial for exporting to TensorFlow."
      ]
    },
    {
      "cell_type": "code",
      "execution_count": null,
      "metadata": {
        "id": "9OBLHOtCBLyB"
      },
      "outputs": [],
      "source": [
        "# Exporting requires TF-DF installed.\n",
        "# !pip install tensorflow_decision_forests\n",
        "model.to_tensorflow_saved_model(\"/tmp/my_tensorflow_saved_model\")"
      ]
    },
    {
      "cell_type": "markdown",
      "metadata": {
        "id": "DvuGpmjf-Qde"
      },
      "source": [
        "TF-DF models can be imported to YDF. The imported model is generally equivalent to the original model and should return the same predictions. As the main difference, categorical columns in the imported model must be provided as strings instead of integers.\n",
        "\n",
        "Note that only TF-DF models containing a single Decision Forest (e.g. a Random Forest or a Gradient Boosted Tree) can be exported in YDF. Other parts of the model graph (e.g. neural networks) cannot be imported.\n"
      ]
    },
    {
      "cell_type": "code",
      "execution_count": null,
      "metadata": {
        "id": "hmWDidBW--aR"
      },
      "outputs": [],
      "source": [
        "# Import the TF-DF model. Provide its top-level directory containing the saved_model.pb file.\n",
        "model_from_tfdf = ydf.from_tensorflow_decision_forests(\"/tmp/my_tensorflow_saved_model\")\n",
        "model_from_tfdf.describe()"
      ]
    },
    {
      "cell_type": "markdown",
      "metadata": {
        "id": "zr2KtrHoi73m"
      },
      "source": []
    },
    {
      "cell_type": "markdown",
      "metadata": {
        "id": "GHgCuMJfjeR0"
      },
      "source": [
        "### Model Analysis\n",
        "\n",
        "YDF can compute a detailed model analysis report on a test dataset, including more advanced variable importances."
      ]
    },
    {
      "cell_type": "code",
      "execution_count": null,
      "metadata": {
        "id": "qj905VbLSMiw"
      },
      "outputs": [],
      "source": [
        "# Create a rich analysis report\n",
        "model.analyze(test_ds)"
      ]
    },
    {
      "cell_type": "markdown",
      "metadata": {
        "id": "se88l1L0IHPB"
      },
      "source": [
        "## Advanced topics: Inspection, Building, Tuning and Distributed Training\n",
        "\n",
        "YDF and TF-DF support a number of advanced features. This guide only outlines the most important changes when transitioning from TF-DF to YDF. For more information, please refer to the tutorials on https://ydf.readthedocs.org, in particular\n",
        "\n",
        "*   [Inspecting Trees](https://ydf.readthedocs.io/en/latest/tutorial/inspecting_trees)\n",
        "*   [Editing Trees](https://ydf.readthedocs.io/en/latest/tutorial/editing_trees/)\n",
        "*   [Tuning](https://ydf.readthedocs.io/en/latest/tutorial/tuning)\n",
        "*   [Distributed Training](https://ydf.readthedocs.io/en/latest/tutorial/distributed_training/)"
      ]
    },
    {
      "cell_type": "markdown",
      "metadata": {
        "id": "tIZ1IBdhB1Va"
      },
      "source": [
        "### Model inspector and builder\n",
        "\n",
        "YDF gives users more powerful methods to inspect models and modify models than TF-DF. These methods are now located directly on the model and are much faster than the ones exposed in TF-DF. The `inspector` and `builder` components from TF-DF are no longer necessary."
      ]
    },
    {
      "cell_type": "code",
      "execution_count": null,
      "metadata": {
        "id": "g4ehKkmgB0wh"
      },
      "outputs": [],
      "source": [
        "# Plot a tree\n",
        "model.print_tree(tree_idx=0)"
      ]
    },
    {
      "cell_type": "code",
      "execution_count": null,
      "metadata": {
        "id": "io04oEdQL1_w"
      },
      "outputs": [],
      "source": [
        "# Structural variable importances are available programatically.\n",
        "model.variable_importances()"
      ]
    },
    {
      "cell_type": "code",
      "execution_count": null,
      "metadata": {
        "id": "JHs99oixF_5m"
      },
      "outputs": [],
      "source": [
        "# Access a tree directly\n",
        "tree = model.get_tree(tree_idx=0)\n",
        "\n",
        "tree"
      ]
    },
    {
      "cell_type": "code",
      "execution_count": null,
      "metadata": {
        "id": "HPWf4T7GGMRj"
      },
      "outputs": [],
      "source": [
        "# Modify the tree and add it to the model\n",
        "if isinstance(tree.root.condition, ydf.tree.CategoricalIsInCondition):\n",
        "  tree.root.condition.mask = [1]\n",
        "if isinstance(tree.root.condition, ydf.tree.NumericalHigherThanCondition):\n",
        "  tree.root.condition.threshold = 18.22\n",
        "print(tree)\n",
        "model.add_tree(tree)\n",
        "model.print_tree(tree_idx=model_1.num_trees()-1)"
      ]
    },
    {
      "cell_type": "markdown",
      "metadata": {
        "id": "bujiG137IBd6"
      },
      "source": [
        "### Hyperparameter tuning\n",
        "\n",
        "Hyperparameter tuning with YDF is very similar to hyperparameter tuning with TF-DF. Simply change `tfdf.tuner.RandomSearch()` to `ydf.RandomSearchTuner()` and apply its result as an argument of the learner. YDF then runs the same tuning algorithm with the same parameters.\n",
        "\n",
        "The [Keras Tuner](https://www.tensorflow.org/decision_forests/tutorials/automatic_tuning_colab#training_a_model_with_keras_tuner_alternative_approach) is not supported by YDF."
      ]
    },
    {
      "cell_type": "code",
      "execution_count": null,
      "metadata": {
        "id": "xC-5mFTeJj5-"
      },
      "outputs": [],
      "source": [
        "# Decrease verbosity to avoid long logs\n",
        "ydf.verbose(1)\n",
        "\n",
        "# Define the tuner with some options.\n",
        "tuner = ydf.RandomSearchTuner(num_trials=20)\n",
        "tuner.choice(\"shrinkage\", [0.2, 0.1, 0.05])\n",
        "tuner.choice(\"subsample\", [1.0, 0.9, 0.8])\n",
        "tuner.choice(\"max_depth\", [3, 4,5, 6])\n",
        "\n",
        "# Train a model with the tuner\n",
        "model_tuned = ydf.GradientBoostedTreesLearner(\n",
        "    label=\"income\",\n",
        "    num_trees=100, # Used for all the trials.\n",
        "    tuner=tuner,\n",
        ").train(train_ds)\n",
        "\n",
        "# See the \"Tuning\" tab in the description for details.\n",
        "model_tuned.describe()"
      ]
    },
    {
      "cell_type": "markdown",
      "metadata": {
        "id": "HD42ZdUIGizV"
      },
      "source": [
        "### Distributed Training / Tuning\n",
        "\n",
        "Distributed training in YDF requires datasets as a sequence of paths to dataset files for the individual workers to open. See the [YDF distributed training tutorial](https://ydf.readthedocs.io/en/latest/tutorial/distributed_training/#download-and-split-dataset) for details. Distributed training from a finite TensorFlow distributed dataset is not supported in YDF."
      ]
    },
    {
      "cell_type": "markdown",
      "metadata": {
        "id": "_vAzQgQLMDCp"
      },
      "source": [
        "## Closing remarks\n",
        "\n",
        "The Google Decision Forests team wants to make the migration from TF-DF to YDF as easy as possible. If you have any questions, suggestions, issues or success stories, please contact us at decision-forests-contact@google.com."
      ]
    }
  ],
  "metadata": {
    "colab": {
      "last_runtime": {
        "build_target": "",
        "kind": "local"
      },
      "private_outputs": true,
      "provenance": [
        {
          "file_id": "1B_nFEEclz0uvkvwOcgDGLB2VYihOccvx",
          "timestamp": 1706180693865
        }
      ]
    },
    "kernelspec": {
      "display_name": "Python 3",
      "name": "python3"
    },
    "language_info": {
      "name": "python"
    }
  },
  "nbformat": 4,
  "nbformat_minor": 0
}
