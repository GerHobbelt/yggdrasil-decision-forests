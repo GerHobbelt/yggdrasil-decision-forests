{
  "cells": [
    {
      "cell_type": "code",
      "execution_count": null,
      "metadata": {
        "id": "zbMZjAs2Lf8X"
      },
      "outputs": [],
      "source": [
        "import tensorflow_decision_forests as tfdf\n",
        "import ydf\n",
        "import tensorflow as tf\n",
        "import pandas as pd\n",
        "import numpy as np"
      ]
    },
    {
      "cell_type": "markdown",
      "metadata": {
        "id": "8ncKT6WnLhO_"
      },
      "source": [
        "# Migration from TensorFlow Decision Forests\n",
        "\n",
        "Yggdrasil Decision Forests (YDF) and and TensorFlow Decision Forests (TF-DF) are both front-ends to the same high-performance C++ implementation of Decision Forests algorithms. This guide shows how to migrate a TF-DF pipeline to YDF.\n",
        "\n",
        "### Benefits\n",
        "\n",
        "YDF offers a number of benefits over TF-DF:\n",
        "\n",
        "*   Drastically improved speed of training and inference,\n",
        "*   Rich analysis and evaluation capabilities,\n",
        "*   Advanced support for inspecting and modifying models,\n",
        "*   Export to TensorFlow SavedModel and other model formats,\n",
        "*   A clean and simple API,\n",
        "*   Access to all upcoming features of YDF.\n",
        "\n",
        "### Do I have to migrate?\n",
        "\n",
        "**TensorFlow Decision Forests will continue to be supported and users are not required to migrate their pipelines!** If TF-DF and the Keras work well for you, feel free to stay with TF-DF. Our team will continue to release new versions and support users through our various support channels."
      ]
    },
    {
      "cell_type": "markdown",
      "metadata": {
        "id": "qfsA5LJjLurM"
      },
      "source": [
        "## Converting TF-DF models to YDF\n",
        "\n",
        "TF-DF can be imported to YDF **with the model predictions intact**. This means that, given the same dataset, the imported YDF model will generate the same predictions as the TF-DF model.\n",
        "\n",
        "### Limitations\n",
        "\n",
        "It is possible to create combined Neural Network / Decision Forest models with TF-DF as outlined in [this tutorial](https://www.tensorflow.org/decision_forests/tutorials/model_composition_colab). Such models cannot be directly converted to YDF since YDF's importer only considers the decision forest model and ignores the Neural Network. Similarly, TF-DF multiple containing multiple decision forests cannot be converted to YDF."
      ]
    },
    {
      "cell_type": "markdown",
      "metadata": {
        "id": "oduZskPEtoTL"
      },
      "source": [
        "### Step 0: Create a TF-DF model\n",
        "\n",
        "For the tutorial, we're training and saving a new model, but just loading a model from disk works just as well."
      ]
    },
    {
      "cell_type": "code",
      "execution_count": null,
      "metadata": {
        "id": "6voPatFEg65A"
      },
      "outputs": [],
      "source": [
        "# Download a dataset for the model\n",
        "!wget -q https://storage.googleapis.com/download.tensorflow.org/data/palmer_penguins/penguins.csv -O /tmp/penguins.csv\n",
        "dataset_df = pd.read_csv(\"/tmp/penguins.csv\")\n",
        "\n",
        "def split_dataset(dataset, test_ratio=0.30):\n",
        "  \"\"\"Splits a panda dataframe in two.\"\"\"\n",
        "  test_indices = np.random.rand(len(dataset)) \u003c test_ratio\n",
        "  return dataset[~test_indices], dataset[test_indices]\n",
        "\n",
        "train_ds_pd, test_ds_pd = split_dataset(dataset_df)\n",
        "\n",
        "train_ds = tfdf.keras.pd_dataframe_to_tf_dataset(dataset_df, label=\"species\")\n",
        "test_ds = tfdf.keras.pd_dataframe_to_tf_dataset(test_ds_pd, label=\"species\")\n",
        "\n",
        "# Create, train and save a TensorFlow Decision Forests model.\n",
        "tfdf_model_path = \"/tmp/tfdf_model\"\n",
        "tfdf_model = tfdf.keras.GradientBoostedTreesModel()\n",
        "tfdf_model.fit(train_ds)\n",
        "tfdf_model.save(tfdf_model_path)"
      ]
    },
    {
      "cell_type": "markdown",
      "metadata": {
        "id": "tJ9DpU6Jt5TF"
      },
      "source": [
        "### Step 1: Import the TF-DF model in YDF\n",
        "\n",
        "When importing the TF-DF model, it is important to provide the same model path as used when saving - do not, for instance, provide the path to the `assets` subdirectory of the model."
      ]
    },
    {
      "cell_type": "code",
      "execution_count": null,
      "metadata": {
        "id": "9wnw0wFKsYup"
      },
      "outputs": [],
      "source": [
        "ydf_model = ydf.from_tensorflow_decision_forests(tfdf_model_path)"
      ]
    },
    {
      "cell_type": "markdown",
      "metadata": {
        "id": "iZ8E0SmD0F-K"
      },
      "source": [
        "### Step 2: Check and inspect the model.\n",
        "\n",
        "The YDF model and the TF-DF model now refer to the same decision forest and therefore generate the same predictions.\n",
        "\n",
        "**Warning**: In some rare cases, importing a model that should not be imported (e.g., a model combining a neural network and a decision forests) does not raise an error. However, the resulting YDF model then only contains the decision forest, not the neural network. If unsure, please check the TF-DF model with `model.summary()` before converting it."
      ]
    },
    {
      "cell_type": "code",
      "execution_count": null,
      "metadata": {
        "id": "vTbIl7Ac297J"
      },
      "outputs": [],
      "source": [
        "# Load the TF-DF model\n",
        "loaded_tfdf_model = tf.keras.models.load_model(tfdf_model_path)\n",
        "# Check that it is a single-layer TF-DF model. Note that tfdf_model.summary() of\n",
        "# a freshly trained TF-DF model provides a longer report.\n",
        "loaded_tfdf_model.summary()"
      ]
    },
    {
      "cell_type": "code",
      "execution_count": null,
      "metadata": {
        "id": "Zr3xM5HG3mbo"
      },
      "outputs": [],
      "source": [
        "# Check that the predictions of the TF-DF model and YDF model match.\n",
        "tfdf_predictions = loaded_tfdf_model.predict(test_ds)\n",
        "ydf_predictions = ydf_model.predict(test_ds_pd)\n",
        "\n",
        "print(f\"The maximum difference of predictions is {np.max(np.abs(tfdf_predictions - ydf_predictions))}\")"
      ]
    },
    {
      "cell_type": "code",
      "execution_count": null,
      "metadata": {
        "id": "VOGDwSaB5Nz9"
      },
      "outputs": [],
      "source": [
        "# Print a rich description of the YDF model.\n",
        "ydf_model.describe()"
      ]
    },
    {
      "cell_type": "markdown",
      "metadata": {
        "id": "dVBR3Psg5moJ"
      },
      "source": [
        "## Training models with YDF\n",
        "\n",
        "YDF and TF-DF use the exact same hyperparameters (down to the random seed). Existing training pipelines can therefore be converted by using the same hyperparameters and following the [Getting Started Guide](getting_started) as well as the other documentation."
      ]
    },
    {
      "cell_type": "markdown",
      "metadata": {
        "id": "cAjimbhf8G-0"
      },
      "source": [
        "## Exporting YDF models to TensorFlow SavedModel format"
      ]
    },
    {
      "cell_type": "markdown",
      "metadata": {
        "id": "ImA-doTv8NY9"
      },
      "source": [
        "YDF models can be exported to the TensorFlow SavedModel Format for serving with TF-Serving and other tools. Check out [the detailed guide](tf_serving) for additional information.",
        "\n",
        "**Note**: Categorical columns in the converted model must be saved as strings instead of integers."
      ]
    },
    {
      "cell_type": "code",
      "execution_count": null,
      "metadata": {
        "id": "22FzcUpl8uZ5"
      },
      "outputs": [],
      "source": [
        "ydf_model.to_tensorflow_saved_model('/tmp/new_tf_saved_model')"
      ]
    }
  ],
  "metadata": {
    "colab": {
      "last_runtime": {
        "build_target": "",
        "kind": "local"
      },
      "private_outputs": true,
      "provenance": [
        {
          "file_id": "11Zhr2m-_u_XYEtHogqAaPE5DbxKYBXB8",
          "timestamp": 1705403323586
        }
      ]
    },
    "kernelspec": {
      "display_name": "Python 3",
      "name": "python3"
    },
    "language_info": {
      "name": "python"
    }
  },
  "nbformat": 4,
  "nbformat_minor": 0
}
