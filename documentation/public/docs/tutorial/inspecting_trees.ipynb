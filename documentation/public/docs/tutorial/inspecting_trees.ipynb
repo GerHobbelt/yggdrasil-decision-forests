{
 "cells": [
  {
   "cell_type": "markdown",
   "metadata": {},
   "source": [
    "# Inspecting trees\n",
    "[![Open in Colab](https://colab.research.google.com/assets/colab-badge.svg)](https://colab.research.google.com/github/google/yggdrasil-decision-forests/blob/main/documentation/public/docs/tutorial/inspecting_trees.ipynb)\n"
   ]
  },
  {
   "cell_type": "markdown",
   "metadata": {},
   "source": [
    "## Setup"
   ]
  },
  {
   "cell_type": "code",
   "execution_count": null,
   "metadata": {
    "vscode": {
     "languageId": "plaintext"
    }
   },
   "outputs": [],
   "source": [
    "pip install ydf -U"
   ]
  },
  {
   "cell_type": "code",
   "execution_count": 4,
   "metadata": {},
   "outputs": [],
   "source": [
    "import ydf\n",
    "import numpy as np"
   ]
  },
  {
   "cell_type": "markdown",
   "metadata": {},
   "source": [
    "## What does it mean to inspect trees?\n",
    "\n",
    "A decision forest model, such as Random Forest or Gradient Boosted Decision Trees, is a collection of decision trees. A decision tree has \"internal nodes\" (i.e. nodes with child nodes) and \"leaf nodes\". Using the `get_tree` and `print_tree` methods, you can inspect the structure of the trees, the conditions and the leaf values.\n",
    "\n",
    "In this notebook, we train a simple CART model on a synthetic dataset and inspect its tree structure.\n",
    "\n",
    "\n",
    "## Synthetic dataset\n",
    "\n",
    "Our dataset is composed of two input features and six examples."
   ]
  },
  {
   "cell_type": "code",
   "execution_count": 5,
   "metadata": {},
   "outputs": [
    {
     "data": {
      "text/plain": [
       "{'x1': array([0, 0, 0, 1, 1, 1]),\n",
       " 'x2': array([1, 1, 0, 0, 1, 1]),\n",
       " 'y': array([0, 0, 0, 0, 1, 1])}"
      ]
     },
     "execution_count": 5,
     "metadata": {},
     "output_type": "execute_result"
    }
   ],
   "source": [
    "dataset = {\n",
    "    \"x1\": np.array([0, 0, 0, 1, 1, 1]),\n",
    "    \"x2\": np.array([1, 1, 0, 0, 1, 1]),\n",
    "    \"y\": np.array([0, 0, 0, 0, 1, 1]),\n",
    "}\n",
    "\n",
    "dataset"
   ]
  },
  {
   "cell_type": "markdown",
   "metadata": {},
   "source": [
    "## Training a model"
   ]
  },
  {
   "cell_type": "code",
   "execution_count": 8,
   "metadata": {},
   "outputs": [
    {
     "name": "stdout",
     "output_type": "stream",
     "text": [
      "Train model on 6 examples\n",
      "Model trained in 0:00:00.000728\n"
     ]
    },
    {
     "data": {
      "text/html": [
       "\n",
       "<style>\n",
       "\n",
       ".tab_block .header {\n",
       "    flex-direction: row;\n",
       "    display: flex;\n",
       "}\n",
       "\n",
       ".tab_block .header .tab {\n",
       "    cursor: pointer;\n",
       "    background-color: #F6F5F5;\n",
       "    text-decoration: none;\n",
       "    text-align: center;\n",
       "    padding: 4px 12px;\n",
       "    color: black;\n",
       "}\n",
       "\n",
       ".tab_block .header .tab.selected {\n",
       "    border-bottom: 2px solid #2F80ED;\n",
       "}\n",
       "\n",
       ".tab_block .header .tab:hover {\n",
       "    text-decoration: none;\n",
       "    background-color: #DCDCDC;\n",
       "}\n",
       "\n",
       ".tab_block .body .tab_content {\n",
       "    display: none;\n",
       "    padding: 5px;\n",
       "}\n",
       "\n",
       ".tab_block .body .tab_content.selected {\n",
       "    display: block;\n",
       "}\n",
       "\n",
       ".ydf_pre {\n",
       "    font-size: medium;\n",
       "}\n",
       "\n",
       "\n",
       "\n",
       ".variable_importance {\n",
       "}\n",
       "\n",
       ".variable_importance select {\n",
       "}\n",
       "\n",
       ".variable_importance .content {\n",
       "  display: none;\n",
       "}\n",
       "\n",
       ".variable_importance .content.selected {\n",
       "  display: block;\n",
       "}\n",
       "\n",
       ".ydf_tuning_table {\n",
       "  border-collapse: collapse;\n",
       "  border: 1px solid lightgray;\n",
       "}\n",
       "\n",
       ".ydf_tuning_table th {\n",
       "  background-color: #ededed;\n",
       "  font-weight: bold;\n",
       "  text-align: left;\n",
       "  padding: 3px 4px;\n",
       "  border: 1px solid lightgray;\n",
       "}\n",
       "\n",
       ".ydf_tuning_table td {\n",
       "  text-align: right;\n",
       "  padding: 3px 4px;\n",
       "  border: 1px solid lightgray;\n",
       "}\n",
       "\n",
       ".ydf_tuning_table .best {\n",
       "  background-color: khaki;\n",
       "}\n",
       "\n",
       "</style>\n",
       "\n",
       "<script>\n",
       "\n",
       "function ydfShowTab(block_id, item) {\n",
       "    const block = document.getElementById(block_id);\n",
       "    \n",
       "    \n",
       "    console.log(\"HIDE first of:\",block.getElementsByClassName(\"tab selected\"));\n",
       "    console.log(\"HIDE first of:\",block.getElementsByClassName(\"tab_content selected\"));\n",
       "    \n",
       "    block.getElementsByClassName(\"tab selected\")[0].classList.remove(\"selected\");\n",
       "    block.getElementsByClassName(\"tab_content selected\")[0].classList.remove(\"selected\");\n",
       "    document.getElementById(block_id + \"_\" + item).classList.add(\"selected\");\n",
       "    document.getElementById(block_id + \"_body_\" + item).classList.add(\"selected\");\n",
       "}\n",
       "  \n",
       "\n",
       "function ydfShowVariableImportance(block_id) {\n",
       "    const block = document.getElementById(block_id);\n",
       "    const item = block.getElementsByTagName(\"select\")[0].value;\n",
       "    block.getElementsByClassName(\"content selected\")[0].classList.remove(\"selected\");\n",
       "    document.getElementById(block_id + \"_body_\" + item).classList.add(\"selected\");\n",
       "}\n",
       "\n",
       "</script>\n",
       "  <div class=\"tab_block\" id=\"1c9d-9f1e-1971-5ac5\"><div class=\"header\"><a id=\"1c9d-9f1e-1971-5ac5_model\" class=\"tab selected\" onclick=\"ydfShowTab('1c9d-9f1e-1971-5ac5', 'model')\">Model</a><a id=\"1c9d-9f1e-1971-5ac5_dataspec\" class=\"tab\" onclick=\"ydfShowTab('1c9d-9f1e-1971-5ac5', 'dataspec')\">Dataspec</a><a id=\"1c9d-9f1e-1971-5ac5_training\" class=\"tab\" onclick=\"ydfShowTab('1c9d-9f1e-1971-5ac5', 'training')\">Training</a><a id=\"1c9d-9f1e-1971-5ac5_variable_importance\" class=\"tab\" onclick=\"ydfShowTab('1c9d-9f1e-1971-5ac5', 'variable_importance')\">Variable importances</a><a id=\"1c9d-9f1e-1971-5ac5_structure\" class=\"tab\" onclick=\"ydfShowTab('1c9d-9f1e-1971-5ac5', 'structure')\">Structure</a></div><div class=\"body\"><div id=\"1c9d-9f1e-1971-5ac5_body_model\" class=\"tab_content selected\"><b>Name</b> : RANDOM_FOREST<br><b>Task</b> : REGRESSION<br><b>Label</b> : y<br><b>Features (2)</b> : x1 x2<br><b>Weights</b> : None<br><b>Trained with tuner</b> : No<br><b>Model size</b> : 3 kB<br></div><div id=\"1c9d-9f1e-1971-5ac5_body_dataspec\" class=\"tab_content\"><pre class=\"ydf_pre\">Number of records: 6\n",
       "Number of columns: 3\n",
       "\n",
       "Number of columns by type:\n",
       "\tNUMERICAL: 3 (100%)\n",
       "\n",
       "Columns:\n",
       "\n",
       "NUMERICAL: 3 (100%)\n",
       "\t0: &quot;y&quot; NUMERICAL mean:0.333333 min:0 max:1 sd:0.471405\n",
       "\t1: &quot;x1&quot; NUMERICAL mean:0.5 min:0 max:1 sd:0.5\n",
       "\t2: &quot;x2&quot; NUMERICAL mean:0.666667 min:0 max:1 sd:0.471405\n",
       "\n",
       "Terminology:\n",
       "\tnas: Number of non-available (i.e. missing) values.\n",
       "\tood: Out of dictionary.\n",
       "\tmanually-defined: Attribute whose type is manually defined by the user, i.e., the type was not automatically inferred.\n",
       "\ttokenized: The attribute value is obtained through tokenization.\n",
       "\thas-dict: The attribute is attached to a string dictionary e.g. a categorical attribute stored as a string.\n",
       "\tvocab-size: Number of unique values.\n",
       "</pre></div><div id=\"1c9d-9f1e-1971-5ac5_body_training\" class=\"tab_content\"><p>The following evaluation is computed on the validation or out-of-bag dataset.</p><p>The Random Forest does not have out-of-bag evaluation training logs. Train the model with compute_oob_performances=True to compute the training logs. Make sure the training logs have not been removed with pure_serving_model=True.</p></div><div id=\"1c9d-9f1e-1971-5ac5_body_variable_importance\" class=\"tab_content\"><p><a target=\"_blank\" href=\"https://ydf.readthedocs.io/en/latest/cli_user_manual#variable-importances\">Variable importances</a> measure the importance of an input feature for a model.</p><div id=\"1c9d-9f1e-1971-5ac5_vi\" class=\"variable_importance\"><select onchange=\"ydfShowVariableImportance('1c9d-9f1e-1971-5ac5_vi')\"><option value=\"INV_MEAN_MIN_DEPTH\">INV_MEAN_MIN_DEPTH</option><option value=\"NUM_AS_ROOT\">NUM_AS_ROOT</option><option value=\"NUM_NODES\">NUM_NODES</option><option value=\"SUM_SCORE\">SUM_SCORE</option></select><div id=\"1c9d-9f1e-1971-5ac5_vi_body_INV_MEAN_MIN_DEPTH\" class=\"content selected\"><pre class=\"ydf_pre\">    1. &quot;x1&quot;  1.000000 ################\n",
       "    2. &quot;x2&quot;  0.500000 \n",
       "</pre></div><div id=\"1c9d-9f1e-1971-5ac5_vi_body_NUM_AS_ROOT\" class=\"content\"><pre class=\"ydf_pre\">    1. &quot;x1&quot;  1.000000 \n",
       "</pre></div><div id=\"1c9d-9f1e-1971-5ac5_vi_body_NUM_NODES\" class=\"content\"><pre class=\"ydf_pre\">    1. &quot;x1&quot;  1.000000 \n",
       "    2. &quot;x2&quot;  1.000000 \n",
       "</pre></div><div id=\"1c9d-9f1e-1971-5ac5_vi_body_SUM_SCORE\" class=\"content\"><pre class=\"ydf_pre\">    1. &quot;x1&quot;  0.666667 \n",
       "    2. &quot;x2&quot;  0.666667 \n",
       "</pre></div></div><p>Those variable importances are computed during training. More, and possibly more informative, variable importances are available when analyzing a model on a test dataset.</p></div><div id=\"1c9d-9f1e-1971-5ac5_body_structure\" class=\"tab_content\"><b>Num trees</b> : 1<br><pre class=\"ydf_pre\">Tree #0:\n",
       "    &quot;x1&quot;&gt;=0.5 [s:0.111111 n:6 np:3 miss:1] ; pred:0.333333\n",
       "        ├─(pos)─ &quot;x2&quot;&gt;=0.5 [s:0.222222 n:3 np:2 miss:1] ; pred:0.666667\n",
       "        |        ├─(pos)─ pred:1\n",
       "        |        └─(neg)─ pred:0\n",
       "        └─(neg)─ pred:0\n",
       "</pre></div></div></div>"
      ],
      "text/plain": [
       "<ydf.utils.html.HtmlNotebookDisplay at 0x7f27054c1910>"
      ]
     },
     "execution_count": 8,
     "metadata": {},
     "output_type": "execute_result"
    }
   ],
   "source": [
    "model = ydf.CartLearner(label=\"y\", min_examples=1, task=ydf.Task.REGRESSION).train(dataset)\n",
    "\n",
    "model.describe()"
   ]
  },
  {
   "cell_type": "markdown",
   "metadata": {},
   "source": [
    "## Plotting the model\n",
    "\n",
    "The tree of the model is visible in the \"structure\" tab of `model.describe()`. You can also print trees with the `print_tree` method."
   ]
  },
  {
   "cell_type": "code",
   "execution_count": 9,
   "metadata": {},
   "outputs": [
    {
     "name": "stdout",
     "output_type": "stream",
     "text": [
      "'x1' >= 0.5 [score=0.11111 missing=True]\n",
      "    ├─(pos)─ 'x2' >= 0.5 [score=0.22222 missing=True]\n",
      "    │        ├─(pos)─ value=1 sd=0\n",
      "    │        └─(neg)─ value=0 sd=0\n",
      "    └─(neg)─ value=0 sd=0\n"
     ]
    }
   ],
   "source": [
    "model.print_tree()"
   ]
  },
  {
   "cell_type": "markdown",
   "metadata": {},
   "source": [
    "## Accessing the tree structure\n",
    "\n",
    "The `get_tree` and `get_all_trees` methods give access the structure of the trees programmatically.\n",
    "\n",
    "**Note:** A CART model only has one tree, so the `tree_idx` argument is set to `0`. For models with multiple trees, the number of trees is available with `model.num_trees()`."
   ]
  },
  {
   "cell_type": "code",
   "execution_count": 11,
   "metadata": {},
   "outputs": [
    {
     "data": {
      "text/plain": [
       "Tree(root=NonLeaf(value=RegressionValue(num_examples=6.0, value=0.3333333432674408, standard_deviation=0.4714045207910317), condition=NumericalHigherThanCondition(missing=True, score=0.1111111119389534, attribute=1, threshold=0.5), pos_child=NonLeaf(value=RegressionValue(num_examples=3.0, value=0.6666666865348816, standard_deviation=0.4714045207910317), condition=NumericalHigherThanCondition(missing=True, score=0.2222222238779068, attribute=2, threshold=0.5), pos_child=Leaf(value=RegressionValue(num_examples=2.0, value=1.0, standard_deviation=0.0)), neg_child=Leaf(value=RegressionValue(num_examples=1.0, value=0.0, standard_deviation=0.0))), neg_child=Leaf(value=RegressionValue(num_examples=3.0, value=0.0, standard_deviation=0.0))))"
      ]
     },
     "execution_count": 11,
     "metadata": {},
     "output_type": "execute_result"
    }
   ],
   "source": [
    "tree = model.get_tree(tree_idx=0)\n",
    "\n",
    "tree"
   ]
  },
  {
   "cell_type": "markdown",
   "metadata": {},
   "source": [
    "Do you recognize the structure of the tree printed above? You can access parts of the tree. For example, you can access the condition on `x2`:"
   ]
  },
  {
   "cell_type": "code",
   "execution_count": 12,
   "metadata": {},
   "outputs": [
    {
     "data": {
      "text/plain": [
       "NumericalHigherThanCondition(missing=True, score=0.2222222238779068, attribute=2, threshold=0.5)"
      ]
     },
     "execution_count": 12,
     "metadata": {},
     "output_type": "execute_result"
    }
   ],
   "source": [
    "tree.root.pos_child.condition"
   ]
  },
  {
   "cell_type": "markdown",
   "metadata": {},
   "source": [
    "To show the tree in a more readable form, you can use  the `pretty` function."
   ]
  },
  {
   "cell_type": "code",
   "execution_count": 14,
   "metadata": {},
   "outputs": [
    {
     "name": "stdout",
     "output_type": "stream",
     "text": [
      "'x1' >= 0.5 [score=0.11111 missing=True]\n",
      "    ├─(pos)─ 'x2' >= 0.5 [score=0.22222 missing=True]\n",
      "    │        ├─(pos)─ value=1 sd=0\n",
      "    │        └─(neg)─ value=0 sd=0\n",
      "    └─(neg)─ value=0 sd=0\n",
      "\n"
     ]
    }
   ],
   "source": [
    "print(tree.pretty(model.data_spec()))"
   ]
  }
 ],
 "metadata": {
  "colab": {
   "private_outputs": true
  },
  "kernelspec": {
   "display_name": "Python 3 (ipykernel)",
   "language": "python",
   "name": "python3"
  },
  "language_info": {
   "codemirror_mode": {
    "name": "ipython",
    "version": 3
   },
   "file_extension": ".py",
   "mimetype": "text/x-python",
   "name": "python",
   "nbconvert_exporter": "python",
   "pygments_lexer": "ipython3",
   "version": "3.11.5"
  }
 },
 "nbformat": 4,
 "nbformat_minor": 4
}
