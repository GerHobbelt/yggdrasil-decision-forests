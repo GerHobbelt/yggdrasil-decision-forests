{
  "cells": [
    {
      "cell_type": "markdown",
      "metadata": {},
      "source": [
        "# Ranking",
        "\n",
        "[![Open in Colab](https://colab.research.google.com/assets/colab-badge.svg)](https://colab.research.google.com/github/google/yggdrasil-decision-forests/blob/main/documentation/public/docs/tutorial/ranking.ipynb)\n"
      ]
    },
    {
      "cell_type": "markdown",
      "metadata": {},
      "source": [
        "## Setup"
      ]
    },
    {
      "cell_type": "code",
      "execution_count": null,
      "metadata": {},
      "outputs": [],
      "source": [
        "pip install ydf -U"
      ]
    },
    {
      "cell_type": "markdown",
      "metadata": {},
      "source": [
        "## What is Ranking?\n",
        "\n",
        "**Ranking**, also called [Learn to Rank](https://en.wikipedia.org/wiki/Learning_to_rank), is the task of determining the order of items. For instance, when you search for a query on Google, it ranks web pages and displays the top-ranked results first.\n",
        "A common way to represent a ranking dataset is with a \"relevance\" score. The order of the elements is defined by their relevance: items with greater relevance should appear before items with lower relevance. The cost of a mistake is defined by the difference between the relevance of the predicted item and the relevance of the correct item. For example, misordering two items with relevance 3 and 4 is not as bad as misordering two items with relevance 1 and 5.\n",
        "YDF expects ranking datasets to be presented in a \"flat\" format.\n",
        "A dataset of queries and corresponding documents might look like this:\n",
        "\n",
        "query | document_id | feature_1 | feature_2 | relevance\n",
        "----- | ----------- | --------- | --------- | ---------------\n",
        "cat   | 1           | 0.1       | blue      | 4\n",
        "cat   | 2           | 0.5       | green     | 1\n",
        "cat   | 3           | 0.2       | red       | 2\n",
        "dog   | 4           | NA        | red       | 0\n",
        "dog   | 5           | 0.2       | red       | 0\n",
        "dog   | 6           | 0.6       | green     | 1\n",
        "\n",
        "\n",
        "The *relevance/label* is a floating point numerical value between 0 and 5\n",
        "(generally between 0 and 4) where 0 means \"completely unrelated\", 4 means \"very\n",
        "relevant\" and 5 means \"same as the query\".\n",
        "\n",
        "In this example, Document 1 is very relevant to the query \"cat\", while document 2 is only \"related\" to cats. There are no documents that are really talking about \"dog\" (the highest relevance is 1 for the document 6). However, the dog query is still expecting to return document 6 (since this is the document that talks the \"most\" about dogs).\n"
      ]
    },
    {
      "cell_type": "markdown",
      "metadata": {},
      "source": [
        "## Training a ranking model\n",
        "\n",
        "The task of a model (e.g., classification, regression, ranking, uplifting) is determined by the learner argument `task`.\n"
      ]
    },
    {
      "cell_type": "code",
      "execution_count": 1,
      "metadata": {},
      "outputs": [
        {
          "data": {
            "text/html": [
              "<div>\n",
              "<style scoped>\n",
              "    .dataframe tbody tr th:only-of-type {\n",
              "        vertical-align: middle;\n",
              "    }\n",
              "\n",
              "    .dataframe tbody tr th {\n",
              "        vertical-align: top;\n",
              "    }\n",
              "\n",
              "    .dataframe thead th {\n",
              "        text-align: right;\n",
              "    }\n",
              "</style>\n",
              "<table border=\"1\" class=\"dataframe\">\n",
              "  <thead>\n",
              "    <tr style=\"text-align: right;\">\n",
              "      <th></th>\n",
              "      <th>GROUP</th>\n",
              "      <th>LABEL</th>\n",
              "      <th>cat_int_0</th>\n",
              "      <th>cat_int_1</th>\n",
              "      <th>cat_str_0</th>\n",
              "      <th>cat_str_1</th>\n",
              "      <th>num_0</th>\n",
              "      <th>num_1</th>\n",
              "      <th>num_2</th>\n",
              "      <th>num_3</th>\n",
              "    </tr>\n",
              "  </thead>\n",
              "  <tbody>\n",
              "    <tr>\n",
              "      <th>0</th>\n",
              "      <td>G0</td>\n",
              "      <td>0.493644</td>\n",
              "      <td>NaN</td>\n",
              "      <td>11.0</td>\n",
              "      <td>V_18</td>\n",
              "      <td>V_7</td>\n",
              "      <td>0.923738</td>\n",
              "      <td>0.373921</td>\n",
              "      <td>0.154973</td>\n",
              "      <td>0.892344</td>\n",
              "    </tr>\n",
              "    <tr>\n",
              "      <th>1</th>\n",
              "      <td>G0</td>\n",
              "      <td>1.461350</td>\n",
              "      <td>28.0</td>\n",
              "      <td>5.0</td>\n",
              "      <td>V_15</td>\n",
              "      <td>V_28</td>\n",
              "      <td>0.627094</td>\n",
              "      <td>0.907925</td>\n",
              "      <td>0.556397</td>\n",
              "      <td>0.839919</td>\n",
              "    </tr>\n",
              "    <tr>\n",
              "      <th>2</th>\n",
              "      <td>G0</td>\n",
              "      <td>0.662606</td>\n",
              "      <td>6.0</td>\n",
              "      <td>22.0</td>\n",
              "      <td>NaN</td>\n",
              "      <td>V_2</td>\n",
              "      <td>0.690948</td>\n",
              "      <td>0.129315</td>\n",
              "      <td>0.832686</td>\n",
              "      <td>0.318354</td>\n",
              "    </tr>\n",
              "    <tr>\n",
              "      <th>3</th>\n",
              "      <td>G0</td>\n",
              "      <td>2.510630</td>\n",
              "      <td>7.0</td>\n",
              "      <td>1.0</td>\n",
              "      <td>V_5</td>\n",
              "      <td>V_12</td>\n",
              "      <td>0.698481</td>\n",
              "      <td>NaN</td>\n",
              "      <td>0.899466</td>\n",
              "      <td>0.831899</td>\n",
              "    </tr>\n",
              "    <tr>\n",
              "      <th>4</th>\n",
              "      <td>G0</td>\n",
              "      <td>0.691813</td>\n",
              "      <td>15.0</td>\n",
              "      <td>24.0</td>\n",
              "      <td>V_7</td>\n",
              "      <td>V_27</td>\n",
              "      <td>0.102744</td>\n",
              "      <td>0.237528</td>\n",
              "      <td>0.379345</td>\n",
              "      <td>0.699236</td>\n",
              "    </tr>\n",
              "  </tbody>\n",
              "</table>\n",
              "</div>"
            ],
            "text/plain": [
              "  GROUP     LABEL  cat_int_0  cat_int_1 cat_str_0 cat_str_1     num_0  \\\n",
              "0    G0  0.493644        NaN       11.0      V_18       V_7  0.923738   \n",
              "1    G0  1.461350       28.0        5.0      V_15      V_28  0.627094   \n",
              "2    G0  0.662606        6.0       22.0       NaN       V_2  0.690948   \n",
              "3    G0  2.510630        7.0        1.0       V_5      V_12  0.698481   \n",
              "4    G0  0.691813       15.0       24.0       V_7      V_27  0.102744   \n",
              "\n",
              "      num_1     num_2     num_3  \n",
              "0  0.373921  0.154973  0.892344  \n",
              "1  0.907925  0.556397  0.839919  \n",
              "2  0.129315  0.832686  0.318354  \n",
              "3       NaN  0.899466  0.831899  \n",
              "4  0.237528  0.379345  0.699236  "
            ]
          },
          "execution_count": 1,
          "metadata": {},
          "output_type": "execute_result"
        }
      ],
      "source": [
        "# Load libraries\n",
        "import ydf  # Yggdrasil Decision Forests\n",
        "import pandas as pd  # We use Pandas to load small datasets\n",
        "import numpy as np\n",
        "\n",
        "# Download and load a ranking datasets as Pandas DataFrames\n",
        "ds_path = \"https://raw.githubusercontent.com/google/yggdrasil-decision-forests/main/yggdrasil_decision_forests/test_data/dataset\"\n",
        "train_ds = pd.read_csv(f\"{ds_path}/synthetic_ranking_train.csv\")\n",
        "test_ds = pd.read_csv(f\"{ds_path}/synthetic_ranking_test.csv\")\n",
        "\n",
        "# Print the first 5 training examples\n",
        "train_ds.head(5)"
      ]
    },
    {
      "cell_type": "markdown",
      "metadata": {},
      "source": [
        "In this dataset, each row represents a pair of query / document (called \"GROUP\"). The \"LABEL\" is the relevance and it indicates how much the query matches the document.\n",
        "The features of the query and the document are merged together as features in the other columns `cat_int_0`, `cat_int_1`, etc."
      ]
    },
    {
      "cell_type": "markdown",
      "metadata": {},
      "source": [
        "We can train a ranking model:"
      ]
    },
    {
      "cell_type": "code",
      "execution_count": 2,
      "metadata": {},
      "outputs": [
        {
          "name": "stdout",
          "output_type": "stream",
          "text": [
            "Train model on 3990 examples\n",
            "Model trained in 0:00:00.695050\n"
          ]
        }
      ],
      "source": [
        "model = ydf.GradientBoostedTreesLearner(\n",
        "    label=\"LABEL\",\n",
        "    ranking_group=\"GROUP\",\n",
        "    task=ydf.Task.RANKING).train(train_ds)"
      ]
    },
    {
      "cell_type": "markdown",
      "metadata": {},
      "source": [
        "By default, YDF evaluates ranking models with [NDCG](https://en.wikipedia.org/wiki/Discounted_cumulative_gain)."
      ]
    },
    {
      "cell_type": "code",
      "execution_count": 3,
      "metadata": {},
      "outputs": [
        {
          "name": "stdout",
          "output_type": "stream",
          "text": [
            "NDCG: 0.726741\n",
            "num examples: 1010\n",
            "num examples (weighted): 1010\n",
            "\n"
          ]
        }
      ],
      "source": [
        "evaluation = model.evaluate(test_ds)\n",
        "\n",
        "print(evaluation)"
      ]
    },
    {
      "cell_type": "markdown",
      "metadata": {},
      "source": [
        "You can plot a rich evaluation with more plots."
      ]
    },
    {
      "cell_type": "code",
      "execution_count": 4,
      "metadata": {},
      "outputs": [
        {
          "data": {
            "text/html": [
              "<div>\n",
              "  <style>.metric_box {\n",
              "}\n",
              "\n",
              ".metric_box a {\n",
              "  text-decoration:none;\n",
              "  color: darkblue;\n",
              "}\n",
              "\n",
              ".metric_box .title {\n",
              "  font-weight: bold;\n",
              "}\n",
              "\n",
              ".metric_box .section {\n",
              "  margin: 5px 5px 5px 5px;\n",
              "}\n",
              "\n",
              ".metric_box .grid {\n",
              "  display: grid;\n",
              "  grid-template-columns: max-content max-content max-content max-content;\n",
              "  grid-template-rows: auto;\n",
              "  border-bottom: 1px solid lightgray;\n",
              "  padding: 10px;\n",
              "}\n",
              "\n",
              ".metric_box .grid > div {\n",
              "}\n",
              "\n",
              ".metric_box .grid > div:nth-child(odd) {\n",
              "  font-weight: bold;\n",
              "  padding-right: 5px;\n",
              "  text-align: right;\n",
              "}\n",
              "\n",
              ".metric_box .grid > div:nth-child(even) {\n",
              "  padding-right: 20px;\n",
              "}\n",
              "\n",
              ".metric_box .complex {\n",
              "  display: inline-block;\n",
              "  margin: 15px 20px 0px 0px;\n",
              "  vertical-align: top;\n",
              "}\n",
              "\n",
              ".metric_box .complex .key {\n",
              "  font-weight: bold;\n",
              "}\n",
              "\n",
              ".metric_box .complex .value {\n",
              "}\n",
              "\n",
              ".metric_box .confusion_matrix {\n",
              "  border-collapse: collapse;\n",
              "  margin: 15px 15px;\n",
              "  border: 1px solid lightgray;\n",
              "}\n",
              "\n",
              ".metric_box .confusion_matrix th {\n",
              "  background-color: #ededed;\n",
              "  font-weight: bold;\n",
              "  text-align: left;\n",
              "  padding: 5px;\n",
              "  border: 1px solid lightgray;\n",
              "}\n",
              "\n",
              ".metric_box .confusion_matrix td {\n",
              "  text-align: right;\n",
              "  padding: 3px;\n",
              "  border: 1px solid lightgray;\n",
              "}\n",
              "</style>\n",
              "  <div class=\"metric_box\">\n",
              "    <div class=\"grid section\">\n",
              "      <div class=\"key\">NDCG:</div>\n",
              "      <div class=\"value\">0.726741</div>\n",
              "      <div class=\"key\">\n",
              "        <a href=\"https://ydf.readthedocs.io/glossary#number-of-examples\" target=\"_blank\">num examples:</a>\n",
              "      </div>\n",
              "      <div class=\"value\">1010</div>\n",
              "      <div class=\"key\">\n",
              "        <a href=\"https://ydf.readthedocs.io/glossary#weighted-number-of-examples\" target=\"_blank\">num examples (weighted):</a>\n",
              "      </div>\n",
              "      <div class=\"value\">1010</div>\n",
              "    </div>\n",
              "    <div class=\"complex\">\n",
              "      <div class=\"key\"/>\n",
              "      <div class=\"value\">\n",
              "      </div>\n",
              "    </div>\n",
              "  </div>\n",
              "</div>\n"
            ],
            "text/plain": [
              "Evaluation()"
            ]
          },
          "execution_count": 4,
          "metadata": {},
          "output_type": "execute_result"
        }
      ],
      "source": [
        "evaluation"
      ]
    }
  ],
  "metadata": {
    "colab": {
      "private_outputs": true
    },
    "kernelspec": {
      "display_name": "Python 3",
      "language": "python",
      "name": "python3"
    },
    "language_info": {
      "codemirror_mode": {
        "name": "ipython",
        "version": 3
      },
      "file_extension": ".py",
      "mimetype": "text/x-python",
      "name": "python",
      "nbconvert_exporter": "python",
      "pygments_lexer": "ipython3",
      "version": "3.11.5"
    }
  },
  "nbformat": 4,
  "nbformat_minor": 0
}
