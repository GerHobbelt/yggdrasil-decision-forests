{
 "cells": [
  {
   "cell_type": "markdown",
   "metadata": {},
   "source": [
    "# TF Serving\n",
    "\n",
    "[![Open in Colab](https://colab.research.google.com/assets/colab-badge.svg)](https://colab.research.google.com/github/google/yggdrasil-decision-forests/blob/main/documentation/public/docs/tutorial/tf_serving.ipynb)\n",
    "\n",
    "## Setup"
   ]
  },
  {
   "cell_type": "code",
   "execution_count": null,
   "metadata": {},
   "outputs": [],
   "source": [
    "pip install ydf -U"
   ]
  },
  {
   "cell_type": "markdown",
   "metadata": {},
   "source": [
    "## What is TF Serving?\n",
    "\n",
    "[TensorFlow Serving](https://www.tensorflow.org/tfx/guide/serving) is a production environment for running machine learning models. YDF models are native to TF Serving, meaning that TF Serving natively supports YDF models."
   ]
  },
  {
   "cell_type": "markdown",
   "metadata": {},
   "source": [
    "## Train a model\n",
    "\n",
    "We train a YDF model in a similar fashion to the classification tutorial.\n",
    "\n",
    "We load a dataset:"
   ]
  },
  {
   "cell_type": "code",
   "execution_count": 2,
   "metadata": {},
   "outputs": [
    {
     "data": {
      "text/html": [
       "<div>\n",
       "<style scoped>\n",
       "    .dataframe tbody tr th:only-of-type {\n",
       "        vertical-align: middle;\n",
       "    }\n",
       "\n",
       "    .dataframe tbody tr th {\n",
       "        vertical-align: top;\n",
       "    }\n",
       "\n",
       "    .dataframe thead th {\n",
       "        text-align: right;\n",
       "    }\n",
       "</style>\n",
       "<table border=\"1\" class=\"dataframe\">\n",
       "  <thead>\n",
       "    <tr style=\"text-align: right;\">\n",
       "      <th></th>\n",
       "      <th>age</th>\n",
       "      <th>workclass</th>\n",
       "      <th>fnlwgt</th>\n",
       "      <th>education</th>\n",
       "      <th>education_num</th>\n",
       "      <th>marital_status</th>\n",
       "      <th>occupation</th>\n",
       "      <th>relationship</th>\n",
       "      <th>race</th>\n",
       "      <th>sex</th>\n",
       "      <th>capital_gain</th>\n",
       "      <th>capital_loss</th>\n",
       "      <th>hours_per_week</th>\n",
       "      <th>native_country</th>\n",
       "      <th>income</th>\n",
       "    </tr>\n",
       "  </thead>\n",
       "  <tbody>\n",
       "    <tr>\n",
       "      <th>0</th>\n",
       "      <td>44</td>\n",
       "      <td>Private</td>\n",
       "      <td>228057</td>\n",
       "      <td>7th-8th</td>\n",
       "      <td>4</td>\n",
       "      <td>Married-civ-spouse</td>\n",
       "      <td>Machine-op-inspct</td>\n",
       "      <td>Wife</td>\n",
       "      <td>White</td>\n",
       "      <td>Female</td>\n",
       "      <td>0</td>\n",
       "      <td>0</td>\n",
       "      <td>40</td>\n",
       "      <td>Dominican-Republic</td>\n",
       "      <td>&lt;=50K</td>\n",
       "    </tr>\n",
       "    <tr>\n",
       "      <th>1</th>\n",
       "      <td>20</td>\n",
       "      <td>Private</td>\n",
       "      <td>299047</td>\n",
       "      <td>Some-college</td>\n",
       "      <td>10</td>\n",
       "      <td>Never-married</td>\n",
       "      <td>Other-service</td>\n",
       "      <td>Not-in-family</td>\n",
       "      <td>White</td>\n",
       "      <td>Female</td>\n",
       "      <td>0</td>\n",
       "      <td>0</td>\n",
       "      <td>20</td>\n",
       "      <td>United-States</td>\n",
       "      <td>&lt;=50K</td>\n",
       "    </tr>\n",
       "    <tr>\n",
       "      <th>2</th>\n",
       "      <td>40</td>\n",
       "      <td>Private</td>\n",
       "      <td>342164</td>\n",
       "      <td>HS-grad</td>\n",
       "      <td>9</td>\n",
       "      <td>Separated</td>\n",
       "      <td>Adm-clerical</td>\n",
       "      <td>Unmarried</td>\n",
       "      <td>White</td>\n",
       "      <td>Female</td>\n",
       "      <td>0</td>\n",
       "      <td>0</td>\n",
       "      <td>37</td>\n",
       "      <td>United-States</td>\n",
       "      <td>&lt;=50K</td>\n",
       "    </tr>\n",
       "    <tr>\n",
       "      <th>3</th>\n",
       "      <td>30</td>\n",
       "      <td>Private</td>\n",
       "      <td>361742</td>\n",
       "      <td>Some-college</td>\n",
       "      <td>10</td>\n",
       "      <td>Married-civ-spouse</td>\n",
       "      <td>Exec-managerial</td>\n",
       "      <td>Husband</td>\n",
       "      <td>White</td>\n",
       "      <td>Male</td>\n",
       "      <td>0</td>\n",
       "      <td>0</td>\n",
       "      <td>50</td>\n",
       "      <td>United-States</td>\n",
       "      <td>&lt;=50K</td>\n",
       "    </tr>\n",
       "    <tr>\n",
       "      <th>4</th>\n",
       "      <td>67</td>\n",
       "      <td>Self-emp-inc</td>\n",
       "      <td>171564</td>\n",
       "      <td>HS-grad</td>\n",
       "      <td>9</td>\n",
       "      <td>Married-civ-spouse</td>\n",
       "      <td>Prof-specialty</td>\n",
       "      <td>Wife</td>\n",
       "      <td>White</td>\n",
       "      <td>Female</td>\n",
       "      <td>20051</td>\n",
       "      <td>0</td>\n",
       "      <td>30</td>\n",
       "      <td>England</td>\n",
       "      <td>&gt;50K</td>\n",
       "    </tr>\n",
       "  </tbody>\n",
       "</table>\n",
       "</div>"
      ],
      "text/plain": [
       "   age     workclass  fnlwgt     education  education_num      marital_status  \\\n",
       "0   44       Private  228057       7th-8th              4  Married-civ-spouse   \n",
       "1   20       Private  299047  Some-college             10       Never-married   \n",
       "2   40       Private  342164       HS-grad              9           Separated   \n",
       "3   30       Private  361742  Some-college             10  Married-civ-spouse   \n",
       "4   67  Self-emp-inc  171564       HS-grad              9  Married-civ-spouse   \n",
       "\n",
       "          occupation   relationship   race     sex  capital_gain  \\\n",
       "0  Machine-op-inspct           Wife  White  Female             0   \n",
       "1      Other-service  Not-in-family  White  Female             0   \n",
       "2       Adm-clerical      Unmarried  White  Female             0   \n",
       "3    Exec-managerial        Husband  White    Male             0   \n",
       "4     Prof-specialty           Wife  White  Female         20051   \n",
       "\n",
       "   capital_loss  hours_per_week      native_country income  \n",
       "0             0              40  Dominican-Republic  <=50K  \n",
       "1             0              20       United-States  <=50K  \n",
       "2             0              37       United-States  <=50K  \n",
       "3             0              50       United-States  <=50K  \n",
       "4             0              30             England   >50K  "
      ]
     },
     "execution_count": 2,
     "metadata": {},
     "output_type": "execute_result"
    }
   ],
   "source": [
    "import ydf  # Yggdrasil Decision Forests\n",
    "import pandas as pd  # We use Pandas to load small datasets\n",
    "\n",
    "# Download a classification dataset and load it as a Pandas DataFrame.\n",
    "ds_path = \"https://raw.githubusercontent.com/google/yggdrasil-decision-forests/main/yggdrasil_decision_forests/test_data/dataset\"\n",
    "train_ds = pd.read_csv(f\"{ds_path}/adult_train.csv\")\n",
    "test_ds = pd.read_csv(f\"{ds_path}/adult_test.csv\")\n",
    "\n",
    "# Print the first 5 training examples\n",
    "train_ds.head(5)"
   ]
  },
  {
   "cell_type": "markdown",
   "metadata": {},
   "source": [
    "And we train the model:"
   ]
  },
  {
   "cell_type": "code",
   "execution_count": 3,
   "metadata": {},
   "outputs": [
    {
     "name": "stdout",
     "output_type": "stream",
     "text": [
      "Warning: Column 'age' with NUMERICAL semantic has dtype int64. Casting value to float32.\n"
     ]
    },
    {
     "name": "stderr",
     "output_type": "stream",
     "text": [
      "WARNING:absl:Column 'age' with NUMERICAL semantic has dtype int64. Casting value to float32.\n"
     ]
    },
    {
     "name": "stdout",
     "output_type": "stream",
     "text": [
      "Train model on 22792 examples\n"
     ]
    },
    {
     "name": "stdout",
     "output_type": "stream",
     "text": [
      "Model trained in 0:00:07.923158\n"
     ]
    }
   ],
   "source": [
    "model = ydf.GradientBoostedTreesLearner(label=\"income\").train(train_ds)"
   ]
  },
  {
   "cell_type": "markdown",
   "metadata": {},
   "source": [
    "## Export model to TF Saved Model format\n",
    "\n",
    "Since TensorFlow Serving expects the model in the TF SavedModel format, we export the YDF model to a TF Serving model.\n",
    "\n",
    "YDF requires [TensorFlow Decision Forests](https://www.tensorflow.org/decision_forests) to be installed to export TF Saved Models. TensorFlow Decision Forests is a Decision Forest library built on top of YDF."
   ]
  },
  {
   "cell_type": "code",
   "execution_count": null,
   "metadata": {},
   "outputs": [],
   "source": [
    "!pip install tensorflow_decision_forests"
   ]
  },
  {
   "cell_type": "code",
   "execution_count": 9,
   "metadata": {},
   "outputs": [
    {
     "name": "stderr",
     "output_type": "stream",
     "text": [
      "[INFO 23-11-19 18:42:04.9019 CET kernel.cc:1233] Loading model from path /tmp/tmp8hv3g8sa/ with prefix \n",
      "[INFO 23-11-19 18:42:04.9285 CET quick_scorer_extended.cc:903] The binary was compiled without AVX2 support, but your CPU supports it. Enable it for faster model inference.\n",
      "[INFO 23-11-19 18:42:04.9295 CET abstract_model.cc:1344] Engine \"GradientBoostedTreesQuickScorerExtended\" built\n",
      "[INFO 23-11-19 18:42:04.9297 CET kernel.cc:1061] Use fast generic engine\n"
     ]
    }
   ],
   "source": [
    "model.to_tensorflow_saved_model(\"/tmp/ydf/my_saved_model\")"
   ]
  },
  {
   "cell_type": "markdown",
   "metadata": {},
   "source": [
    "TF Serving expects the model path to be in the following format:\n",
    "\n",
    "`models/<MODEL_NAME>/<VERSION>`\n"
   ]
  },
  {
   "cell_type": "markdown",
   "metadata": {},
   "source": [
    "To test our model, we start a local version of TF Serving following the [tf serving setup instructions](https://github.com/tensorflow/serving#set-up).\n",
    "\n",
    "In a separate terminal, type:\n",
    "\n",
    "```shell\n",
    "cd /tmp/ydf\n",
    "\n",
    "docker run -t --rm -p 8501:8501 \\\n",
    "    -v /tmp/ydf/my_saved_model:/models/my_saved_model/1 \\\n",
    "    -e MODEL_NAME=my_saved_model \\\n",
    "    tensorflow/serving\n",
    "```"
   ]
  },
  {
   "cell_type": "markdown",
   "metadata": {},
   "source": [
    "Once the server is up and running, you can send prediction requests. The TF Serving REST API supports two ways to represent examples:\n",
    "\n",
    "- Instances: This is simpler for when passing a single example.\n",
    "- Inputs: This is more efficient when running the model on multiple examples.\n",
    "\n",
    "Here is an example of each:"
   ]
  },
  {
   "cell_type": "markdown",
   "metadata": {},
   "source": [
    "**Predictions with the instances API:**"
   ]
  },
  {
   "cell_type": "code",
   "execution_count": 12,
   "metadata": {
    "vscode": {
     "languageId": "shellscript"
    }
   },
   "outputs": [
    {
     "name": "stdout",
     "output_type": "stream",
     "text": [
      "{\n",
      "    \"predictions\": [[0.0186043456]\n",
      "    ]\n",
      "}"
     ]
    }
   ],
   "source": [
    "!curl http://localhost:8501/v1/models/my_saved_model:predict -X POST \\\n",
    "    -d '{\"instances\": [{\"age\":39,\"workclass\":\"State-gov\",\"fnlwgt\":77516,\"education\":\"Bachelors\",\"education_num\":13,\"marital_status\":\"Never-married\",\"occupation\":\"Adm-clerical\",\"relationship\":\"Not-in-family\",\"race\":\"White\",\"sex\":\"Male\",\"capital_gain\":2174,\"capital_loss\":0,\"hours_per_week\":40,\"native_country\":\"United-States\"}]}'"
   ]
  },
  {
   "cell_type": "markdown",
   "metadata": {},
   "source": [
    "**Predictions with the predict+inputs API:**"
   ]
  },
  {
   "cell_type": "code",
   "execution_count": 16,
   "metadata": {
    "vscode": {
     "languageId": "shellscript"
    }
   },
   "outputs": [
    {
     "name": "stdout",
     "output_type": "stream",
     "text": [
      "{\n",
      "    \"outputs\": [\n",
      "        [\n",
      "            0.0186043456\n",
      "        ]\n",
      "    ]\n",
      "}"
     ]
    }
   ],
   "source": [
    "!curl http://localhost:8501/v1/models/my_saved_model:predict -X POST \\\n",
    "    -d '{\"inputs\": {\"age\":[39],\"workclass\":[\"State-gov\"],\"fnlwgt\":[77516],\"education\":[\"Bachelors\"],\"education_num\":[13],\"marital_status\":[\"Never-married\"],\"occupation\":[\"Adm-clerical\"],\"relationship\":[\"Not-in-family\"],\"race\":[\"White\"],\"sex\":[\"Male\"],\"capital_gain\":[2174],\"capital_loss\":[0],\"hours_per_week\":[40],\"native_country\":[\"United-States\"]} }'"
   ]
  }
 ],
 "metadata": {
  "kernelspec": {
   "display_name": "Python 3",
   "language": "python",
   "name": "python3"
  },
  "language_info": {
   "codemirror_mode": {
    "name": "ipython",
    "version": 3
   },
   "file_extension": ".py",
   "mimetype": "text/x-python",
   "name": "python",
   "nbconvert_exporter": "python",
   "pygments_lexer": "ipython3",
   "version": "3.11.5"
  },
  "orig_nbformat": 4
 },
 "nbformat": 4,
 "nbformat_minor": 2
}
