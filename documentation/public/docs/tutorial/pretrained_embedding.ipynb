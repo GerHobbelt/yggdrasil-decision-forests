{
 "cells": [
  {
   "cell_type": "markdown",
   "metadata": {},
   "source": [
    "# Pretrained Embedding\n",
    "\n",
    "[![Open in Colab](https://colab.research.google.com/assets/colab-badge.svg)](https://colab.research.google.com/github/google/yggdrasil-decision-forests/blob/main/documentation/public/docs/tutorial/pretrained_embedding.ipynb)\n",
    "\n",
    "## Setup"
   ]
  },
  {
   "cell_type": "code",
   "execution_count": null,
   "metadata": {},
   "outputs": [],
   "source": [
    "pip install ydf tensorflow_hub tensorflow_datasets tensorflow==2.13.1 -U"
   ]
  },
  {
   "cell_type": "code",
   "execution_count": null,
   "metadata": {},
   "outputs": [],
   "source": [
    "import ydf  # To train the model\n",
    "import tensorflow_datasets  # To download the movie review dataset\n",
    "import tensorflow_hub  # To download the pre-trained embedding "
   ]
  },
  {
   "cell_type": "markdown",
   "metadata": {},
   "source": [
    "## What is a pre-trained embedding?\n",
    "\n",
    "**Pretrained embeddings** are models trained on a large corpus of data that can be used to improve the quality of your model when you do not have a lot of training data. Unlike a model that is trained for a specific task and outputs predictions for that task, a pretrained embedding model outputs \\\"embeddings,\\\" which are fixed-size numerical vectors that can be used as input features for a second model (e.g. a ydf model) to solve a variety of tasks. Pre-trained embeddings are also useful for applying a model to complex or unstructured data. For example, with an image, text, audio, or video pre-trained embedding, you can apply a YDF model to image, text, audio, and video data, respectively.\n",
    "\n",
    "In this notebook, we will classify movie reviews as either \"positive\" or \"negative\". For instance, the review beginning with \"This is the kind of film for a snowy Sunday afternoon when the rest of the world can go ahead with its own business as you descend into a big arm-chair and mellow for a couple of hours. Wonderful performances from Cher and Nicolas ...\" is a positive review. Our dataset contains 25000 reviews, but because 25000 reviews are NOT enough to train a good text model, and because configuring a text model is complicated, we will simply use the [Universal Sentence Encoder](https://arxiv.org/abs/1803.11175) pre-trained embedding.\n"
   ]
  },
  {
   "cell_type": "markdown",
   "metadata": {},
   "source": [
    "## Downloading dataset\n",
    "\n",
    "We download the dataset from the [TensorFlow Dataset]() repository."
   ]
  },
  {
   "cell_type": "code",
   "execution_count": null,
   "metadata": {},
   "outputs": [],
   "source": [
    "raw_train_ds = tensorflow_datasets.load(name=\"imdb_reviews\", split=\"train\")\n",
    "raw_test_ds = tensorflow_datasets.load(name=\"imdb_reviews\", split=\"test\")"
   ]
  },
  {
   "cell_type": "markdown",
   "metadata": {},
   "source": [
    "Let's look at the first 200 letters or the first 3 examples:"
   ]
  },
  {
   "cell_type": "code",
   "execution_count": null,
   "metadata": {},
   "outputs": [],
   "source": [
    "for example in raw_train_ds.take(3):\n",
    "  print(f\"\"\"\\\n",
    "text: {example['text'].numpy()[:200]}\n",
    "label: {example['label']}\n",
    "=========================\"\"\")"
   ]
  },
  {
   "cell_type": "markdown",
   "metadata": {},
   "source": [
    "## Downloading embedding"
   ]
  },
  {
   "cell_type": "code",
   "execution_count": null,
   "metadata": {},
   "outputs": [],
   "source": [
    "embed = tensorflow_hub.load(\"https://tfhub.dev/google/universal-sentence-encoder/4\")"
   ]
  },
  {
   "cell_type": "markdown",
   "metadata": {},
   "source": [
    "We can test the embedding on any text. It returns a vector of numbers. While those values do not have inherent meaning to us, YDF is very good at consuming them."
   ]
  },
  {
   "cell_type": "code",
   "execution_count": null,
   "metadata": {},
   "outputs": [],
   "source": [
    "embeddings = embed([\n",
    "    \"The little blue dog eats a piece of ham.\",\n",
    "    \"It is raining today.\"]).numpy()\n",
    "print(embeddings)"
   ]
  },
  {
   "cell_type": "markdown",
   "metadata": {},
   "source": [
    "## Apply embedding on dataset\n",
    "\n",
    "We can apply the embedding to our dataset. Since the dataset and the embedding are both created with TensorFlow, we will prepare a TensorFlow Dataset and feed it directly into YDF. YDF natively consumes TensorFlow Datasets."
   ]
  },
  {
   "cell_type": "code",
   "execution_count": null,
   "metadata": {},
   "outputs": [],
   "source": [
    "def apply_embedding(batch):\n",
    "    batch[\"text\"] = embed(batch[\"text\"])\n",
    "    return batch\n",
    "\n",
    "# The batch-size (256) has not impact on the YDF model. However,\n",
    "# reading a TensorFlow dataset with a small (<50) batch size might\n",
    "# be slow. Use a large batch size increases memory usage.\n",
    "train_ds = raw_train_ds.batch(256).map(apply_embedding)\n",
    "test_ds = raw_test_ds.batch(256).map(apply_embedding)"
   ]
  },
  {
   "cell_type": "markdown",
   "metadata": {},
   "source": [
    "Let's show the first 10 dimensions of the embedding for the 3 examples in the first batch examples."
   ]
  },
  {
   "cell_type": "code",
   "execution_count": null,
   "metadata": {},
   "outputs": [],
   "source": [
    "for example in train_ds.take(1):\n",
    "  print(f\"\"\"\\\n",
    "text: {example['text'].numpy()[:3, :10]}\n",
    "label: {example['label'].numpy()[:3]}\n",
    "=========================\"\"\")"
   ]
  },
  {
   "cell_type": "markdown",
   "metadata": {},
   "source": [
    "## Training a pre-trained embedding model"
   ]
  },
  {
   "cell_type": "code",
   "execution_count": null,
   "metadata": {},
   "outputs": [],
   "source": [
    "model = ydf.GradientBoostedTreesLearner(label=\"label\").train(train_ds)"
   ]
  },
  {
   "cell_type": "markdown",
   "metadata": {},
   "source": [
    "We can observe the 512 dimensions of the embedding. In the \"variable importance\" tab, we see that not all dimensions of the embedding are equally useful. For example, the feature `text.111_of_512` is very useful for the model."
   ]
  },
  {
   "cell_type": "code",
   "execution_count": null,
   "metadata": {},
   "outputs": [],
   "source": [
    "model.describe()"
   ]
  },
  {
   "cell_type": "markdown",
   "metadata": {},
   "source": [
    "## Evaluating model\n",
    "\n",
    "We evaluate the model on the test dataset."
   ]
  },
  {
   "cell_type": "code",
   "execution_count": null,
   "metadata": {},
   "outputs": [],
   "source": [
    "model.evaluate(test_ds)"
   ]
  },
  {
   "cell_type": "markdown",
   "metadata": {},
   "source": [
    "The model accuracy is ~85%. Not too bad for a model trained in a few seconds with default hyper-parameters :)"
   ]
  }
 ],
 "metadata": {
  "kernelspec": {
   "display_name": "Python 3",
   "language": "python",
   "name": "python3"
  },
  "language_info": {
   "codemirror_mode": {
    "name": "ipython",
    "version": 3
   },
   "file_extension": ".py",
   "mimetype": "text/x-python",
   "name": "python",
   "nbconvert_exporter": "python",
   "pygments_lexer": "ipython3",
   "version": "3.11.5"
  },
  "orig_nbformat": 4
 },
 "nbformat": 4,
 "nbformat_minor": 2
}
